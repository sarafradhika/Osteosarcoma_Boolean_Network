{
 "cells": [
  {
   "cell_type": "code",
   "execution_count": 1,
   "metadata": {},
   "outputs": [],
   "source": [
    "import numpy as np\n",
    "import matplotlib.pyplot as plt\n",
    "import pandas as pd"
   ]
  },
  {
   "cell_type": "code",
   "execution_count": 2,
   "metadata": {},
   "outputs": [],
   "source": [
    "def network(CaLM,IGF,TRAIL,EGF,TNFa,IL6,TGFb,IFN,Hh,WNT,cAMP,ROS,fCXCR4,fSLC1A3,fIL8,fMDM2,fp53,fPTEN,fSTAT3,cryp,ly294002,lapatinib,nt157,sh454,temsi,uo126,px478,ho3867):\n",
    "    \n",
    "    CaMK = CaLM\n",
    "    IGF1R = IGF and (not nt157)\n",
    "    IRS = IGF1R\n",
    "\n",
    "    EGFR = EGF and (not lapatinib)\n",
    "    RAS = EGFR or IRS or CaLM or cAMP\n",
    "    \n",
    "    CXCR4 = IGF\n",
    "    \n",
    "    if fCXCR4 == 1:\n",
    "        CXCR4 = 1\n",
    "    \n",
    "    RAF = RAS\n",
    "    MEK1 = RAF and (not uo126)\n",
    "    \n",
    "    PI3K = (RAS or IRS or CXCR4) and (not ly294002)\n",
    "    PIP2 = PI3K\n",
    "    \n",
    "    PTEN = 1\n",
    "    \n",
    "    if fPTEN == 1:\n",
    "        PTEN = 0\n",
    "    \n",
    "    PIP3 = PIP2 and (not PTEN)\n",
    "    MTORC2 = PIP3\n",
    "    PDK1 = PIP3\n",
    "    AKT = PDK1 or MTORC2\n",
    "    \n",
    "    PD1 = ROS\n",
    "    PLCb1 = ROS or CXCR4\n",
    "    \n",
    "    IP3R = (PLCb1 or PIP2) and CaMK\n",
    "    ERSTRESS = PD1 or IP3R\n",
    "    \n",
    "    DAG = PLCb1\n",
    "    PKC = DAG or IP3R\n",
    "    \n",
    "    IRE1a = ERSTRESS\n",
    "    PERK = ERSTRESS\n",
    "    ELF2a = PERK\n",
    "    ATF4 = ELF2a\n",
    "    \n",
    "    LPS = IFN\n",
    "    TLR = LPS\n",
    "    \n",
    "    TNFR = TNFa\n",
    "    \n",
    "    RIP = TNFR \n",
    "    DRP1 = RIP or cryp\n",
    "    \n",
    "    NFKB = RIP or ELF2a or TLR\n",
    "    \n",
    "    MEKK1 = RAS\n",
    "    MKK7 = MEKK1 \n",
    "    \n",
    "    ASK1 = TNFa or RIP\n",
    "    JNK = MKK7 or ASK1 or IRE1a or CaMK\n",
    "    \n",
    "    NOS = AKT or CaMK\n",
    "    NO = NOS\n",
    "    DNAdamage = NO\n",
    "    \n",
    "    sGC = NO\n",
    "    cGMP = sGC\n",
    "    PKG = cGMP\n",
    "    \n",
    "    ERK1 = MEK1 or PKC\n",
    "    \n",
    "    RSK = ERK1\n",
    "    ELK1 = ERK1\n",
    "    \n",
    "    MTORC1 = (AKT or PKC or RSK) and (not temsi)\n",
    "    \n",
    "    ELF4e = ERK1 or MTORC1\n",
    "    \n",
    "    PKA = cAMP and (not Hh)\n",
    "    \n",
    "    CREB = (RSK or PKA or CaMK or PKG) and (not ATF4)\n",
    "    \n",
    "    IL6R = IL6\n",
    "    JAK1 = IL6R or PERK or IFN\n",
    "    \n",
    "    PTP = 1 or nt157\n",
    "    \n",
    "    temp = (not PTP) and (JAK1 or ERK1 or MTORC1)\n",
    "    \n",
    "    if fSTAT3 == 1:\n",
    "        temp = 1\n",
    "        \n",
    "    STAT3 = temp and (not (cryp or sh454 or ho3867))\n",
    "    \n",
    "    MCL1 = STAT3 and (not DNAdamage)\n",
    "    \n",
    "    HIF1a = (STAT3 or NFKB or MTORC1 or ELF4e or ROS) and (not px478)\n",
    "    VEGF = HIF1a or STAT3\n",
    "    \n",
    "    COX2 = NFKB or STAT3\n",
    "    \n",
    "    DV1 = WNT\n",
    "    \n",
    "    GSK3b = PKA or (not (AKT or DV1))\n",
    "    GliR = GSK3b and (not Hh)\n",
    "    GliA = Hh\n",
    "    \n",
    "    bCATENIN = cAMP and (not GSK3b)\n",
    "\n",
    "    SMAD6 = IFN or TNFa    \n",
    "    SMAD2 = TGFb and (not SMAD6) \n",
    "    \n",
    "    cMYC = (CREB or PKA or PKG or CaMK or bCATENIN) and (not (GSK3b or SMAD2))\n",
    "    \n",
    "    cFOS = CREB\n",
    "    \n",
    "    RAD3 = DNAdamage\n",
    "    CHK1 = MCL1 and RAD3\n",
    "    \n",
    "    MDM2 = ERK1 or AKT\n",
    "    \n",
    "    if fMDM2 == 1 :\n",
    "        MDM2 = 1\n",
    "    \n",
    "    p53 = (CHK1 or JNK) and (not MDM2)\n",
    "    \n",
    "    if fp53 == 1 :\n",
    "        p53 = 0\n",
    "\n",
    "    p21 = p53 and (not MTORC1)\n",
    "    CCND1 = (not p21) and (MDM2 or cMYC)\n",
    "\n",
    "    CDC25 = (not CHK1) or ERK1\n",
    "    WEE1 = CHK1\n",
    "    CDC2 = CDC25 and (not WEE1) \n",
    "    \n",
    "    KEAP1 = (not NO)\n",
    "    NRF2 = (LPS or GSK3b or PERK) and (not KEAP1) \n",
    "    \n",
    "    STING = (cGMP and HIF1a) and (not NRF2) \n",
    "    ARE = NRF2\n",
    "    \n",
    "    HO1 = NRF2 or HIF1a\n",
    "    \n",
    "    SLC1A3 = p53\n",
    "    \n",
    "    if fSLC1A3 == 1:\n",
    "        SLC1A3 = 0\n",
    "        \n",
    "    GSH = NFKB and (not p53)\n",
    "    GSSG = GSH and (SLC1A3 or ARE)\n",
    "    \n",
    "    CHOP = (ATF4 or ELK1 or ARE) and (not STAT3)\n",
    "    \n",
    "    FAS = p53 or JNK or cFOS\n",
    "\n",
    "    SRP = TRAIL\n",
    "    DR4 = SRP and (not COX2)\n",
    "    DR5 = (TRAIL or JNK or (CHOP and (not COX2))) or (cryp) \n",
    "    \n",
    "    DISC = (DR4 or DR5) or TNFR or FAS\n",
    "    IL8 = (DISC or NFKB) and (not JNK)\n",
    "    \n",
    "    if fIL8 == 1:\n",
    "        IL8 = 1 \n",
    "        \n",
    "    CFLIP = IL8\n",
    "    CASP8 = np.mean([DISC,(not CFLIP)])\n",
    "    \n",
    "    NOXA = p53\n",
    "    PUMA = p53\n",
    "    \n",
    "    BID = np.mean([CASP8, p53])\n",
    "    BAD = np.mean([(not AKT), JNK])\n",
    "    BIM = np.mean([JNK, (not MCL1)])\n",
    "    BCLxL = np.mean([(not BAD), (not BID), (not CHOP),(not NOXA),(not PUMA)])\n",
    "    BCL2 = np.mean([(PUMA and MCL1), GliA, (not GliR), (not BIM), (not NOXA), (not PUMA)])\n",
    "    BAKX = np.mean([BID, JNK, (not BCL2), (not BCLxL)])\n",
    "    \n",
    "    A1 = NFKB\n",
    "    survivin = bCATENIN or STAT3\n",
    "    \n",
    "    CALPAIN = (IP3R or BAKX) and CaMK\n",
    "    CASP12 = ERSTRESS or CALPAIN\n",
    "    \n",
    "    XBP1 = ERSTRESS\n",
    "    \n",
    "    EPO = HIF1a\n",
    "    \n",
    "    ROS = np.mean([ROS,TRAIL,TNFa,not(GSH),GSSG,(not HO1),ARE]) \n",
    "    MMP = np.mean([BAKX, ROS, (not BCL2), (not BCLxL)]) \n",
    "    CYTOc = MMP\n",
    "    XIAP = np.mean([AKT,(not MMP)])\n",
    "\n",
    "    pro = np.mean([BAKX, BAD, CASP8, CASP12, BID, BIM, STING, DRP1])\n",
    "    anti = np.mean([BCL2, BCLxL, MCL1, XIAP, XBP1, survivin, EPO, A1])\n",
    "    \n",
    "    apoptosis_ratio = np.true_divide(pro,anti)\n",
    "    \n",
    "    return apoptosis_ratio"
   ]
  },
  {
   "cell_type": "code",
   "execution_count": 3,
   "metadata": {},
   "outputs": [],
   "source": [
    "def boolean_network_function(inputs,drugs,faults):\n",
    "    \n",
    "    num_in = 12\n",
    "    num_drugs = 8\n",
    "    num_faults = 7\n",
    "\n",
    "    bin_in = np.binary_repr(inputs, width=num_in)\n",
    "    \n",
    "    IGF = int(bin_in[0]) \n",
    "    TRAIL = int(bin_in[1])\n",
    "    CaLM = int(bin_in[2]) \n",
    "    EGF = int(bin_in[3])\n",
    "    TNFa = int(bin_in[4])\n",
    "    IL6 = int(bin_in[5])\n",
    "    TGFb = int(bin_in[6])\n",
    "    IFN = int(bin_in[7])\n",
    "    Hh = int(bin_in[8])\n",
    "    WNT = int(bin_in[9])\n",
    "    cAMP = int(bin_in[10])\n",
    "    ROS = int(bin_in[11])\n",
    "    \n",
    "    \n",
    "    bin_fault = np.binary_repr(faults, width=num_faults)\n",
    "    \n",
    "    fCXCR4 = int(bin_fault[0]) \n",
    "    fSLC1A3 = int(bin_fault[1]) \n",
    "    fIL8 = int(bin_fault[2]) \n",
    "    fMDM2 = int(bin_fault[3]) \n",
    "    fp53 = int(bin_fault[4])\n",
    "    fPTEN = int(bin_fault[5]) \n",
    "    fSTAT3 = int(bin_fault[6])\n",
    "    \n",
    "    bin_dr = np.binary_repr(drugs, width=num_drugs)\n",
    "\n",
    "    cryp = int(bin_dr[0])\n",
    "    ly294002 = int(bin_dr[1])\n",
    "    lapatinib = int(bin_dr[2])\n",
    "    nt157 = int(bin_dr[3])\n",
    "    sh454 =  int(bin_dr[4])\n",
    "    temsi = int(bin_dr[5]) \n",
    "    uo126 = int(bin_dr[6])\n",
    "    px478 = int(bin_dr[7])\n",
    "    ho3867 = int(bin_dr[4]) \n",
    "    \n",
    "    apoptosis_ratio = network(CaLM,IGF,TRAIL,EGF,TNFa,IL6,TGFb,IFN,Hh,WNT,cAMP,ROS,fCXCR4,fSLC1A3,fIL8,fMDM2,fp53,fPTEN,fSTAT3,cryp,ly294002,lapatinib,nt157,sh454,temsi,uo126,px478,ho3867)\n",
    "\n",
    "    return apoptosis_ratio"
   ]
  },
  {
   "cell_type": "code",
   "execution_count": 4,
   "metadata": {},
   "outputs": [
    {
     "data": {
      "image/png": "[encoded data removed]",
      "text/plain": [
       "<Figure size 432x288 with 1 Axes>"
      ]
     },
     "metadata": {
      "needs_background": "light"
     },
     "output_type": "display_data"
    }
   ],
   "source": [
    "barWidth = 0.1\n",
    "drugs = int('00000000',2)\n",
    "inputs = [0,int('010000000000',2),int('110000000000',2),int('000010000000',2),int('100010000000',2),int('000000001100',2),int('000001110000',2),int('111111111111',2)] \n",
    "r1 = np.arange(len(inputs))\n",
    "r2 = [x + barWidth for x in r1]\n",
    "r3 = [x + barWidth for x in r2]\n",
    "r4 =  [x + barWidth for x in r3]\n",
    "\n",
    "\n",
    "# NO FAULTS\n",
    "faults = int('0000000',2)\n",
    "\n",
    "apoptotic_fraction = np.zeros(len(inputs))\n",
    "AF = []\n",
    "label = []\n",
    "   \n",
    "for i in range(0,len(inputs)):\n",
    "    \n",
    "    apoptosis_ratio = boolean_network_function(inputs[i],drugs,faults)\n",
    "\n",
    "    apoptotic_fraction[i] = apoptosis_ratio\n",
    "    \n",
    "    label.append(bin(inputs[i]))\n",
    "    \n",
    "plt.bar(r1,apoptotic_fraction,color='g', width=barWidth, edgecolor='white',label='NO FAULTS WITH NO DRUGS')\n",
    "\n",
    "# ALL FAULTS\n",
    "faults = int('1111111',2)\n",
    "\n",
    "apoptotic_fraction = np.zeros(len(inputs))\n",
    "AF = []\n",
    "label = []\n",
    "   \n",
    "for i in range(0,len(inputs)):\n",
    "    \n",
    "    apoptosis_ratio = boolean_network_function(inputs[i],drugs,faults)\n",
    "\n",
    "    apoptotic_fraction[i] = apoptosis_ratio\n",
    "    \n",
    "    label.append(bin(inputs[i]))\n",
    "    \n",
    "plt.bar(r2,apoptotic_fraction,color='r', width=barWidth, edgecolor='white',label='ALL FAULTS WITH NO DRUGS')\n",
    "\n",
    "# ALL FAULTS WITH SH-4-54\n",
    "faults = int('1111111',2)\n",
    "drugs = int('00001000',2)\n",
    "\n",
    "apoptotic_fraction = np.zeros(len(inputs))\n",
    "AF = []\n",
    "label = []\n",
    "   \n",
    "for i in range(0,len(inputs)):\n",
    "    \n",
    "    apoptosis_ratio = boolean_network_function(inputs[i],drugs,faults)\n",
    "\n",
    "    apoptotic_fraction[i] = apoptosis_ratio\n",
    "    \n",
    "    label.append(bin(inputs[i]))\n",
    "    \n",
    "plt.bar(r3,apoptotic_fraction,color='y', width=barWidth, edgecolor='white',label='ALL FAULTS WITH SH-4-54')\n",
    "\n",
    "# ALL FAULTS WITH CT\n",
    "faults = int('1111111',2)\n",
    "drugs = int('10000000',2)\n",
    "\n",
    "apoptotic_fraction = np.zeros(len(inputs))\n",
    "AF = []\n",
    "label = []\n",
    "   \n",
    "for i in range(0,len(inputs)):\n",
    "    \n",
    "    apoptosis_ratio = boolean_network_function(inputs[i],drugs,faults)\n",
    "\n",
    "    apoptotic_fraction[i] = apoptosis_ratio\n",
    "    \n",
    "    label.append(bin(inputs[i]))\n",
    "    \n",
    "plt.bar(r4,apoptotic_fraction,color='b', width=barWidth, edgecolor='white',label='ALL FAULTS WITH CT')\n",
    "    \n",
    "objects = ('No Input','TRAIL','TRAIL+IGF','TNFa','TNFa+IGF','Sh+WNT','IL6+TGFb+IFN','ALL')\n",
    "plt.xlabel('Input Combinations')\n",
    "plt.ylabel('Net Apoptosis Ratio')\n",
    "plt.legend()\n",
    "plt.tight_layout()\n",
    "\n",
    "plt.xticks(rotation=90)\n",
    "plt.xticks([r + barWidth for r in range(len(inputs))], objects)\n",
    "plt.savefig('../input.png')\n",
    "plt.show()"
   ]
  },
  {
   "cell_type": "code",
   "execution_count": 5,
   "metadata": {},
   "outputs": [],
   "source": [
    " def aoc(f):\n",
    "        \n",
    "    # READ TEXT FILE \n",
    "\n",
    "    F = f.read().split(\"\\n\")\n",
    "\n",
    "    # IDENTIFY CELL LINES\n",
    "    for i in range(0,len(F)):\n",
    "        line = F[i]\n",
    "        if line == '@CELLLINES':\n",
    "            obj = F[i+1]\n",
    "            CELL_LINES = obj.split(',')\n",
    "            break\n",
    "\n",
    "    print('Cell lines : ', CELL_LINES)\n",
    "    \n",
    "    # PICK ABRAMS\n",
    "    for i in range(0,len(CELL_LINES)):\n",
    "        line = CELL_LINES[i]\n",
    "        if line == 'ABRAMS':\n",
    "            stop = i-1\n",
    "            break\n",
    "    \n",
    "    n=i\n",
    "\n",
    "    #IDENTIFY DRUGS\n",
    "    for i in range(0,len(F)):\n",
    "        line = F[i]\n",
    "        if line == '@DRUGS':\n",
    "            obj = F[i+1]\n",
    "            DRUGS = obj.split(',')\n",
    "            break\n",
    "\n",
    "    print('Drugs : ', DRUGS)\n",
    "\n",
    "    #IDENTIFY THE AVERAGE PLOT\n",
    "\n",
    "    for i in range(0,len(F)):\n",
    "        line = F[i]\n",
    "        if line == '#Y':\n",
    "            number = i+1\n",
    "            break\n",
    "\n",
    "    for i in range(0,len(F)):\n",
    "        line = F[i]\n",
    "        if line == '#R':\n",
    "            stop = i-1\n",
    "            break\n",
    "\n",
    "\n",
    "    #PROCESS THE VALUES \n",
    "\n",
    "    T = []\n",
    "\n",
    "    for i in range(0,len(CELL_LINES)):\n",
    "        for j in range(0,len(DRUGS)):\n",
    "            t = list((CELL_LINES[i],DRUGS[j]))\n",
    "            T.append(t)\n",
    "\n",
    "    apop_frac = {}\n",
    "\n",
    "    for i in range(number,number+len(T)):\n",
    "        line = F[i]\n",
    "\n",
    "        apop_frac[i] = line\n",
    "\n",
    "    values = []\n",
    "\n",
    "    for i in apop_frac:\n",
    "        value = apop_frac[i].split(',')\n",
    "        values.append(value)\n",
    "\n",
    "    # 26 DISTINCT VALUES\n",
    "\n",
    "    floats = np.zeros((len(values),len(values[0])))\n",
    "\n",
    "    for i in range(0,len(values)):\n",
    "        for j in range(0,len(values[0])):\n",
    "            floats[i][j] = float(values[i][j]) \n",
    "\n",
    "    #AOC CALCULATION\n",
    "\n",
    "    areas = np.zeros(len(T))\n",
    "\n",
    "    for i in range(0,len(T)):\n",
    "\n",
    "        areas[i] = 2*sum(floats[i]) - floats[i][0] - floats[i][len(floats[i])-1]\n",
    "        \n",
    "    return areas,T,n\n"
   ]
  },
  {
   "cell_type": "code",
   "execution_count": 6,
   "metadata": {},
   "outputs": [
    {
     "name": "stdout",
     "output_type": "stream",
     "text": [
      "CryLy.txt\n",
      "Cell lines :  ['143B', 'HOS', 'ABRAMS', 'MCKOS', '19Lu', 'CoN', 'K9L', 'K9C']\n",
      "Drugs :  ['Untreat', 'MLN', 'SH', 'MLN+SH', 'HO', 'BBI', 'Lap', 'SH5', 'Cis', 'Art', 'BP', 'LY', 'Cry20', 'Cry10', 'H-S', 'Cry5+H-S']\n",
      "Combinations :  ['ABRAMS', 'LY'] ['ABRAMS', 'Cry10'] ['ABRAMS', 'Untreat']\n"
     ]
    },
    {
     "data": {
      "image/png": "[encoded data removed]",
      "text/plain": [
       "<Figure size 432x288 with 1 Axes>"
      ]
     },
     "metadata": {
      "needs_background": "light"
     },
     "output_type": "display_data"
    },
    {
     "name": "stdout",
     "output_type": "stream",
     "text": [
      "CryComb.txt\n",
      "Cell lines :  ['A375', 'ABRAMS', 'CAL27', 'GBM12', 'H2073', 'HPAC', 'HT29', 'MCF7']\n",
      "Drugs :  ['+AG', '+APT', '+Art', '+BP', '+Cis', 'Cry', '+HO', '+Ly', '+Lap', '+MLN', '+NT', '+Nap', '+SH', '+Tem', '+U0', 'Untreat']\n",
      "Combinations :  ['ABRAMS', 'Cry'] ['ABRAMS', '+Ly'] ['ABRAMS', '+Lap'] ['ABRAMS', '+NT'] ['ABRAMS', '+Tem'] ['ABRAMS', '+U0'] ['ABRAMS', 'Untreat']\n"
     ]
    },
    {
     "data": {
      "image/png": "[encoded data removed]",
      "text/plain": [
       "<Figure size 432x288 with 1 Axes>"
      ]
     },
     "metadata": {
      "needs_background": "light"
     },
     "output_type": "display_data"
    },
    {
     "name": "stdout",
     "output_type": "stream",
     "text": [
      "CryPx.txt\n",
      "Cell lines :  ['ABRAMS', 'BKOS', 'CKOS', 'MCKOS', 'SKOS', 'UWOS2', 'MCKOSA', 'BWKOSA']\n",
      "Drugs :  ['Untreat', 'HO', 'MLN+SH', 'HO+MLN+SH', 'Cry', 'C+H', 'CH+SH', 'CH+MLN', 'CH+Lap', 'C+MLN+SH', 'CH+PX', 'Cis', 'C+Cis', 'H+Cis', 'CH+Cis', 'Cry0']\n",
      "Combinations :  ['ABRAMS', 'Cry'] ['ABRAMS', 'C+H'] ['ABRAMS', 'CH+SH'] ['ABRAMS', 'CH+PX'] ['ABRAMS', 'Untreat']\n"
     ]
    },
    {
     "data": {
      "image/png": "[encoded data removed]",
      "text/plain": [
       "<Figure size 432x288 with 1 Axes>"
      ]
     },
     "metadata": {
      "needs_background": "light"
     },
     "output_type": "display_data"
    }
   ],
   "source": [
    "filename = ['CryLy.txt','CryComb.txt','CryPx.txt']\n",
    "    \n",
    "for i in range(0,len(filename)):\n",
    "    print(filename[i])\n",
    "    f = open(filename[i])\n",
    "\n",
    "    areas,T,n = aoc(f)\n",
    "\n",
    "    N = 16*n\n",
    "\n",
    "    if i == 0:\n",
    "        print('Combinations : ',T[11+N],T[13+N],T[0+N])\n",
    "        area = [areas[61],areas[59],areas[48]]\n",
    "        objects = ('Cry','Ly','Untreated')\n",
    "        plt.xlabel('Comparison of Cryptotanshinone and Ly294002')\n",
    "        plt.xticks(rotation=90)\n",
    "        plt.ylabel('Area under curve')\n",
    "        plt.bar(objects,area)\n",
    "        plt.tight_layout()\n",
    "        plt.savefig('../CryLy_Bio.png')\n",
    "        plt.show()\n",
    "        \n",
    "        cryly = area\n",
    "        \n",
    "    if i == 1:\n",
    "        print('Combinations : ',T[21],T[23],T[24],T[26],T[29],T[30],T[31])\n",
    "        area = [areas[21],areas[23],areas[24],areas[26],areas[29],areas[30],areas[31]]\n",
    "        objects = ('+Cry','+Ly','+Lap','+NT','+Tem','U0','Untreated')\n",
    "        plt.xlabel('Cryptotanshinone with one drug at a time')\n",
    "        plt.xticks(rotation=90)\n",
    "        plt.ylabel('Area under curve')\n",
    "        plt.bar(objects,area)\n",
    "        plt.tight_layout()\n",
    "        plt.savefig('../CryComb_Bio.png')\n",
    "        plt.show()\n",
    "        \n",
    "        crycomb = area\n",
    "        \n",
    "    if i == 2:\n",
    "        print('Combinations : ',T[4],T[5],T[6],T[10],T[0])\n",
    "        area = [areas[4],areas[5],areas[6],areas[10],areas[0]]\n",
    "        objects = ('Cry','+H','+SH','+PX478','Untreated')\n",
    "        plt.xlabel('Cryptotanshinone with two drugs at a time')\n",
    "        plt.xticks(rotation=90)\n",
    "        plt.ylabel('Area under curve')\n",
    "        plt.bar(objects,area)\n",
    "        plt.tight_layout()\n",
    "        plt.savefig('../CryPx_Bio.png')\n",
    "        plt.show()\n",
    "        \n",
    "        crypx = area"
   ]
  },
  {
   "cell_type": "code",
   "execution_count": 7,
   "metadata": {},
   "outputs": [],
   "source": [
    "inputs = int('110000000000',2) \n",
    "faults = int('1111111',2)"
   ]
  },
  {
   "cell_type": "code",
   "execution_count": 8,
   "metadata": {},
   "outputs": [
    {
     "data": {
      "image/png": "[encoded data removed]",
      "text/plain": [
       "<Figure size 432x288 with 1 Axes>"
      ]
     },
     "metadata": {
      "needs_background": "light"
     },
     "output_type": "display_data"
    }
   ],
   "source": [
    "# Cryptotanshinone and Ly294002 comparison\n",
    "\n",
    "drugs = [int('10000000',2),int('01000000',2),0] \n",
    "\n",
    "apoptotic_fraction = np.zeros(len(drugs))\n",
    "   \n",
    "for i in range(0,len(drugs)):\n",
    "    \n",
    "    apoptosis_ratio = boolean_network_function(inputs,drugs[i],faults)\n",
    "    \n",
    "    apoptotic_fraction[i] = apoptosis_ratio\n",
    "\n",
    "objects = ('Cry','Ly','Untreated')\n",
    "plt.xlabel('Comparison of Cryptotanshinone with LY294002')\n",
    "plt.ylabel('Net Apoptosis Ratio')\n",
    "barlist = plt.bar(objects,apoptotic_fraction)\n",
    "for i in barlist:\n",
    "    i.set_color('g')\n",
    "plt.tight_layout()\n",
    "plt.savefig('../CryLy_Sim.png')\n",
    "plt.show()"
   ]
  },
  {
   "cell_type": "code",
   "execution_count": 9,
   "metadata": {},
   "outputs": [
    {
     "data": {
      "image/png": "[encoded data removed]",
      "text/plain": [
       "<Figure size 432x288 with 1 Axes>"
      ]
     },
     "metadata": {
      "needs_background": "light"
     },
     "output_type": "display_data"
    }
   ],
   "source": [
    "# Cryptotanshinone with one drug at a time\n",
    "\n",
    "drugs = [int('10000000',2),int('11000000',2),int('10100000',2),int('10010000',2),int('10000100',2),int('10000010',2),0] \n",
    "\n",
    "apoptotic_fraction = np.zeros(len(drugs))\n",
    "   \n",
    "for i in range(0,len(drugs)):\n",
    "    \n",
    "    apoptosis_ratio = boolean_network_function(inputs,drugs[i],faults)\n",
    "\n",
    "    apoptotic_fraction[i] = apoptosis_ratio\n",
    "    \n",
    "objects = ('+Cry','+Ly','+Lap','+NT','+Tem','+U0','Untreated')\n",
    "plt.xlabel('Cryptotanshinone with one drug at a time')\n",
    "plt.ylabel('Net Apoptosis Ratio')\n",
    "barlist = plt.bar(objects,apoptotic_fraction)\n",
    "for i in barlist:\n",
    "    i.set_color('g')\n",
    "    \n",
    "plt.tight_layout()\n",
    "plt.savefig('../CryComb_Sim.png')\n",
    "plt.show()"
   ]
  },
  {
   "cell_type": "code",
   "execution_count": 10,
   "metadata": {},
   "outputs": [
    {
     "data": {
      "image/png": "[encoded data removed]",
      "text/plain": [
       "<Figure size 432x288 with 1 Axes>"
      ]
     },
     "metadata": {
      "needs_background": "light"
     },
     "output_type": "display_data"
    }
   ],
   "source": [
    "# # Cryptotanshinone and PX478 comparison\n",
    "\n",
    "drugs = [int('10000000',2),int('10001000',2),int('10001000',2),int('10000001',2),0] #NOTE THAT HO-3867 can be modeled the same as SH-4-54 in the model, since both have only one target STAT3.\n",
    "\n",
    "apoptotic_fraction = np.zeros(len(drugs))\n",
    "   \n",
    "for i in range(0,len(drugs)):\n",
    "    \n",
    "    apoptosis_ratio = boolean_network_function(inputs,drugs[i],faults)\n",
    "    \n",
    "    apoptotic_fraction[i] = apoptosis_ratio\n",
    "\n",
    "objects = ('Cry','+H','+SH','+PX478','Untreated')\n",
    "plt.xlabel('Cryptotanshinone with two drugs at a time')\n",
    "plt.ylabel('Net Apoptosis Ratio')\n",
    "barlist = plt.bar(objects,apoptotic_fraction)\n",
    "for i in barlist:\n",
    "    i.set_color('g')\n",
    "plt.tight_layout()\n",
    "plt.savefig('../CryPx_Sim.png')\n",
    "plt.show()"
   ]
  },
  {
   "cell_type": "code",
   "execution_count": 11,
   "metadata": {
    "jupyter": {
     "outputs_hidden": true
    }
   },
   "outputs": [],
   "source": [
    "num_in = 12\n",
    "num_drugs = 8\n",
    "num_faults = 7"
   ]
  },
  {
   "cell_type": "code",
   "execution_count": 12,
   "metadata": {
    "jupyter": {
     "outputs_hidden": true
    }
   },
   "outputs": [],
   "source": [
    "# ALL FAULTS ALL DRUGS\n",
    "\n",
    "faults = np.arange(0,(np.power(2,num_faults)))\n",
    "drugs = np.arange(np.power(2,num_drugs-1),np.power(2,num_drugs))\n",
    "\n",
    "apoptotic_fraction = np.zeros((len(faults),len(drugs)))\n",
    "\n",
    "for j in range(0,len(faults)):\n",
    "        \n",
    "        for i in range(0,len(drugs)):\n",
    "            \n",
    "            apoptosis_ratio = boolean_network_function(inputs,drugs[i],faults[j])\n",
    "            \n",
    "            apoptotic_fraction[j][i] = apoptosis_ratio\n",
    "\n",
    "colorcry = apoptotic_fraction\n",
    "df = pd.DataFrame (apoptotic_fraction)\n",
    "filepath = 'cry.xlsx'\n",
    "df.to_excel(filepath, index=False)"
   ]
  },
  {
   "cell_type": "code",
   "execution_count": 13,
   "metadata": {
    "jupyter": {
     "outputs_hidden": true
    }
   },
   "outputs": [],
   "source": [
    "# ALL FAULTS ALL DRUGS no Cryptotanshinone\n",
    "\n",
    "faults = np.arange(0,(np.power(2,num_faults)))\n",
    "drugs = np.arange(0,np.power(2,num_drugs-1))\n",
    "\n",
    "apoptotic_fraction = np.zeros((len(faults),len(drugs)))\n",
    "\n",
    "for j in range(0,len(faults)):\n",
    "        \n",
    "        for i in range(0,len(drugs)):\n",
    "            \n",
    "            apoptosis_ratio = boolean_network_function(inputs,drugs[i],faults[j])\n",
    "            \n",
    "            apoptotic_fraction[j][i] = apoptosis_ratio\n",
    "\n",
    "colornocry = apoptotic_fraction\n",
    "df = pd.DataFrame (apoptotic_fraction)\n",
    "filepath = 'no_cry.xlsx'\n",
    "df.to_excel(filepath, index=False)"
   ]
  },
  {
   "cell_type": "code",
   "execution_count": 14,
   "metadata": {},
   "outputs": [
    {
     "data": {
      "image/png": "[encoded data removed]",
      "text/plain": [
       "<Figure size 1440x1440 with 2 Axes>"
      ]
     },
     "metadata": {
      "needs_background": "light"
     },
     "output_type": "display_data"
    }
   ],
   "source": [
    "plt.figure(figsize = (20,20))\n",
    "plt.imshow(colorcry,cmap='RdYlGn',vmax=2.5,vmin=0.5);\n",
    "plt.colorbar()\n",
    "plt.title('All possible combinations with CT.')\n",
    "plt.xlabel('Drugs')\n",
    "plt.ylabel('Faults')\n",
    "plt.yticks([])\n",
    "plt.xticks([])\n",
    "plt.savefig('../crycolor.png')\n",
    "plt.show()"
   ]
  },
  {
   "cell_type": "code",
   "execution_count": 15,
   "metadata": {},
   "outputs": [
    {
     "data": {
      "image/png": "[encoded data removed]",
      "text/plain": [
       "<Figure size 1440x1440 with 2 Axes>"
      ]
     },
     "metadata": {
      "needs_background": "light"
     },
     "output_type": "display_data"
    }
   ],
   "source": [
    "plt.figure(figsize = (20,20))\n",
    "plt.imshow(colornocry,cmap='RdYlGn',vmax=2.5,vmin=0.5);\n",
    "plt.colorbar() \n",
    "plt.title('All possible combinations without CT.')\n",
    "plt.xlabel('Drugs')\n",
    "plt.ylabel('Faults')\n",
    "plt.yticks([])\n",
    "plt.xticks([])\n",
    "plt.savefig('../crynocolor.png')\n",
    "plt.show()"
   ]
  },
  {
   "cell_type": "code",
   "execution_count": null,
   "metadata": {},
   "outputs": [],
   "source": []
  },
  {
   "cell_type": "code",
   "execution_count": null,
   "metadata": {},
   "outputs": [],
   "source": []
  }
 ],
 "metadata": {
  "kernelspec": {
   "display_name": "Python 3",
   "language": "python",
   "name": "python3"
  },
  "language_info": {
   "codemirror_mode": {
    "name": "ipython",
    "version": 3
   },
   "file_extension": ".py",
   "mimetype": "text/x-python",
   "name": "python",
   "nbconvert_exporter": "python",
   "pygments_lexer": "ipython3",
   "version": "3.8.3"
  }
 },
 "nbformat": 4,
 "nbformat_minor": 4
}
